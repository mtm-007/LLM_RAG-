{
 "cells": [
  {
   "cell_type": "code",
   "execution_count": 1,
   "id": "7778addc-ca75-4caf-9019-11891735eb14",
   "metadata": {},
   "outputs": [],
   "source": [
    "# import logging\n",
    "# from huggingface_hub import notebook_login\n",
    "# from pathlib import Path\n",
    "\n",
    "# logging.disable(logging.WARNING)\n",
    "\n",
    "# torch.manual_seed(1)\n",
    "# if not (Path.home()/'.cache/huggingface'/'token').exists(): notebook_login()"
   ]
  },
  {
   "cell_type": "code",
   "execution_count": null,
   "id": "b2f1ae7c-0587-406c-86da-210bf505bf93",
   "metadata": {},
   "outputs": [],
   "source": []
  }
 ],
 "metadata": {
  "kernelspec": {
   "display_name": "Python 3 (ipykernel)",
   "language": "python",
   "name": "python3"
  },
  "language_info": {
   "codemirror_mode": {
    "name": "ipython",
    "version": 3
   },
   "file_extension": ".py",
   "mimetype": "text/x-python",
   "name": "python",
   "nbconvert_exporter": "python",
   "pygments_lexer": "ipython3",
   "version": "3.9.13"
  }
 },
 "nbformat": 4,
 "nbformat_minor": 5
}
